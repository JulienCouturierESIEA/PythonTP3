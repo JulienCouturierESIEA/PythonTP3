{
 "cells": [
  {
   "cell_type": "code",
   "execution_count": null,
   "id": "d1539861-93d4-44f7-ac19-3032064341f4",
   "metadata": {},
   "outputs": [],
   "source": [
    "    # TP3 - Python"
   ]
  },
  {
   "cell_type": "code",
   "execution_count": null,
   "id": "e575efb9-c0ed-4949-8f1f-6dbd66a3236c",
   "metadata": {},
   "outputs": [],
   "source": [
    "# Question 1 : "
   ]
  },
  {
   "cell_type": "code",
   "execution_count": null,
   "id": "b0b94cf7-8eec-4fc7-882c-b388d8d4d107",
   "metadata": {},
   "outputs": [],
   "source": [
    "# Un serveur web est un serveur informatique qui répond à des requêtes du World Wide Web en utilisant le protocole HTTP."
   ]
  },
  {
   "cell_type": "code",
   "execution_count": null,
   "id": "e05070c1-57fc-4c90-9c48-72973cd5ecbc",
   "metadata": {},
   "outputs": [],
   "source": [
    "# --> Exemple : Apache"
   ]
  },
  {
   "cell_type": "code",
   "execution_count": null,
   "id": "bf5ea8d0-176b-4673-aae9-108a0c24899d",
   "metadata": {},
   "outputs": [],
   "source": []
  },
  {
   "cell_type": "code",
   "execution_count": null,
   "id": "dcc9396c-0852-4164-97ff-8c8c252e4051",
   "metadata": {},
   "outputs": [],
   "source": [
    "# Question 2 : "
   ]
  },
  {
   "cell_type": "code",
   "execution_count": null,
   "id": "5f0008ba-28f7-44e8-9e34-555e12aff347",
   "metadata": {},
   "outputs": [],
   "source": [
    "# Une API REST est une interface de programmation d'application (API) qui respecte l'architecture REST (règles, normes)."
   ]
  },
  {
   "cell_type": "code",
   "execution_count": null,
   "id": "3cd1f2ff-b7a0-4d90-a381-be9c65614630",
   "metadata": {},
   "outputs": [],
   "source": []
  },
  {
   "cell_type": "code",
   "execution_count": null,
   "id": "cb3da7e7-073d-4999-9e71-7b17791f9362",
   "metadata": {},
   "outputs": [],
   "source": [
    "# Question 3 :"
   ]
  },
  {
   "cell_type": "code",
   "execution_count": null,
   "id": "d26183d3-d5ed-4a53-a828-05a1f6806c9d",
   "metadata": {},
   "outputs": [],
   "source": [
    "# FastAPI permet de créer des API avec Python (application). Il est rapide, facile, intuitif, court, robuste, standard et n'a pas beaucoup de bugs."
   ]
  }
 ],
 "metadata": {
  "kernelspec": {
   "display_name": "Python 3 (ipykernel)",
   "language": "python",
   "name": "python3"
  },
  "language_info": {
   "codemirror_mode": {
    "name": "ipython",
    "version": 3
   },
   "file_extension": ".py",
   "mimetype": "text/x-python",
   "name": "python",
   "nbconvert_exporter": "python",
   "pygments_lexer": "ipython3",
   "version": "3.9.10"
  }
 },
 "nbformat": 4,
 "nbformat_minor": 5
}
